{
 "cells": [
  {
   "cell_type": "code",
   "execution_count": 11,
   "metadata": {},
   "outputs": [],
   "source": [
    "# Import libraries\n",
    "import gradio as gr\n",
    "import pandas as pd\n",
    "import numpy as np\n",
    "import joblib\n",
    "from sklearn.ensemble import RandomForestClassifier\n",
    "from sklearn.model_selection import train_test_split\n",
    "from sklearn.preprocessing import LabelEncoder"
   ]
  },
  {
   "cell_type": "code",
   "execution_count": 15,
   "metadata": {},
   "outputs": [
    {
     "name": "stdout",
     "output_type": "stream",
     "text": [
      "Running on local URL:  http://127.0.0.1:7863\n",
      "\n",
      "To create a public link, set `share=True` in `launch()`.\n"
     ]
    },
    {
     "data": {
      "text/html": [
       "<div><iframe src=\"http://127.0.0.1:7863/\" width=\"100%\" height=\"500\" allow=\"autoplay; camera; microphone; clipboard-read; clipboard-write;\" frameborder=\"0\" allowfullscreen></iframe></div>"
      ],
      "text/plain": [
       "<IPython.core.display.HTML object>"
      ]
     },
     "metadata": {},
     "output_type": "display_data"
    },
    {
     "data": {
      "text/plain": []
     },
     "execution_count": 15,
     "metadata": {},
     "output_type": "execute_result"
    },
    {
     "name": "stderr",
     "output_type": "stream",
     "text": [
      "/opt/homebrew/Caskroom/miniconda/base/envs/fraud-detection-env/lib/python3.8/site-packages/sklearn/base.py:464: UserWarning: X does not have valid feature names, but RandomForestClassifier was fitted with feature names\n",
      "  warnings.warn(\n",
      "/opt/homebrew/Caskroom/miniconda/base/envs/fraud-detection-env/lib/python3.8/site-packages/sklearn/base.py:464: UserWarning: X does not have valid feature names, but RandomForestClassifier was fitted with feature names\n",
      "  warnings.warn(\n",
      "/opt/homebrew/Caskroom/miniconda/base/envs/fraud-detection-env/lib/python3.8/site-packages/sklearn/base.py:464: UserWarning: X does not have valid feature names, but RandomForestClassifier was fitted with feature names\n",
      "  warnings.warn(\n",
      "/opt/homebrew/Caskroom/miniconda/base/envs/fraud-detection-env/lib/python3.8/site-packages/sklearn/base.py:464: UserWarning: X does not have valid feature names, but RandomForestClassifier was fitted with feature names\n",
      "  warnings.warn(\n",
      "/opt/homebrew/Caskroom/miniconda/base/envs/fraud-detection-env/lib/python3.8/site-packages/sklearn/base.py:464: UserWarning: X does not have valid feature names, but RandomForestClassifier was fitted with feature names\n",
      "  warnings.warn(\n"
     ]
    }
   ],
   "source": [
    "import gradio as gr\n",
    "import pandas as pd\n",
    "from sklearn.ensemble import RandomForestClassifier\n",
    "from sklearn.model_selection import train_test_split\n",
    "from sklearn.preprocessing import LabelEncoder\n",
    "import joblib  # For saving and loading models\n",
    "\n",
    "# Load data from CSV\n",
    "data = pd.read_csv('fraudTest.csv')\n",
    "\n",
    "# Preprocessing data\n",
    "# Assuming 'category', 'merchant' are categorical and need encoding\n",
    "merchant_encoder = LabelEncoder()\n",
    "category_encoder = LabelEncoder()\n",
    "\n",
    "data['category'] = category_encoder.fit_transform(data['category'])\n",
    "data['merchant'] = merchant_encoder.fit_transform(data['merchant'])\n",
    "\n",
    "# Save the encoders for later use in prediction\n",
    "joblib.dump(merchant_encoder, 'merchant_encoder.pkl')\n",
    "joblib.dump(category_encoder, 'category_encoder.pkl')\n",
    "\n",
    "# Select features and target\n",
    "X = data[['amt', 'merchant', 'category']]\n",
    "y = data['is_fraud']  # Assuming there is a column 'is_fraud' that indicates if the transaction was fraudulent\n",
    "\n",
    "# Splitting the data into training and testing sets\n",
    "X_train, X_test, y_train, y_test = train_test_split(X, y, test_size=0.2, random_state=42)\n",
    "\n",
    "# Initialize and train a RandomForestClassifier\n",
    "model = RandomForestClassifier(random_state=42)\n",
    "model.fit(X_train, y_train)\n",
    "\n",
    "# Define the prediction function for Gradio\n",
    "def predict_fraud(amount, merchant, category):\n",
    "    # Load the saved LabelEncoders\n",
    "    merchant_encoder = joblib.load('merchant_encoder.pkl')\n",
    "    category_encoder = joblib.load('category_encoder.pkl')\n",
    "    \n",
    "    # Encode the input values\n",
    "    try:\n",
    "        merchant_encoded = merchant_encoder.transform([merchant])[0]\n",
    "        category_encoded = category_encoder.transform([category])[0]\n",
    "    except ValueError:\n",
    "        return \"Error: Merchant or Category not recognized. Please check your input.\"\n",
    "\n",
    "    # Make prediction\n",
    "    prediction = model.predict([[amount, merchant_encoded, category_encoded]])\n",
    "    return 'Fraudulent' if prediction[0] == 1 else 'Non-Fraudulent'\n",
    "\n",
    "# Setup the Gradio interface\n",
    "iface = gr.Interface(fn=predict_fraud,\n",
    "                     inputs=[\"number\", \"text\", \"text\"],\n",
    "                     outputs=\"text\",\n",
    "                     title=\"Credit Card Fraud Detection\",\n",
    "                     description=\"Enter transaction details to predict if they are fraudulent.\")\n",
    "iface.launch()"
   ]
  }
 ],
 "metadata": {
  "kernelspec": {
   "display_name": "fraud-detection-env",
   "language": "python",
   "name": "python3"
  },
  "language_info": {
   "codemirror_mode": {
    "name": "ipython",
    "version": 3
   },
   "file_extension": ".py",
   "mimetype": "text/x-python",
   "name": "python",
   "nbconvert_exporter": "python",
   "pygments_lexer": "ipython3",
   "version": "3.8.19"
  },
  "orig_nbformat": 4
 },
 "nbformat": 4,
 "nbformat_minor": 2
}
